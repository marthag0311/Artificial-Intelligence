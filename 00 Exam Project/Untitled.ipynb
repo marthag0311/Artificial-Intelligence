{
 "cells": [
  {
   "cell_type": "code",
   "execution_count": 1,
   "metadata": {},
   "outputs": [],
   "source": [
    "import numpy as np"
   ]
  },
  {
   "cell_type": "code",
   "execution_count": 2,
   "metadata": {},
   "outputs": [],
   "source": [
    "matrix = np.array([\n",
    "    [16, 84, 319, 3, 5, 8, 58, 50],\n",
    "    [84, 458, 1610, 11, 30, 43, 322, 268],\n",
    "    [319, 1610, 17353, 1, 90, 228, 1040, 885],\n",
    "    [3, 11, 1, 3, 0, 0, 6, 7],\n",
    "    [5, 30, 90, 0, 5, 0, 19, 17],\n",
    "    [8, 43, 228, 0, 0, 8, 33, 26],\n",
    "    [58, 322, 1040, 6, 19, 33, 264, 197],\n",
    "    [50, 268, 885, 7, 17, 26, 197, 180]\n",
    "])"
   ]
  },
  {
   "cell_type": "code",
   "execution_count": 3,
   "metadata": {},
   "outputs": [
    {
     "name": "stdout",
     "output_type": "stream",
     "text": [
      "Determinant: 1.2170266198188197e-07\n"
     ]
    }
   ],
   "source": [
    "determinant = np.linalg.det(matrix)\n",
    "\n",
    "print(\"Determinant:\", determinant)"
   ]
  },
  {
   "cell_type": "code",
   "execution_count": 4,
   "metadata": {},
   "outputs": [
    {
     "name": "stdout",
     "output_type": "stream",
     "text": [
      "[[ 4.17056372e+09 -7.06380656e+08 -8.40393400e+06  1.48679794e+08\n",
      "  -2.28170044e+08]\n",
      " [-7.06380656e+08  1.71551417e+08  4.17128000e+05 -5.44701080e+07\n",
      "  -1.64052200e+06]\n",
      " [-8.40393400e+06  4.17128000e+05  1.85872000e+05  4.76280000e+04\n",
      "   7.47372000e+05]\n",
      " [ 1.48679794e+08 -5.44701080e+07  4.76280000e+04  6.19711920e+07\n",
      "  -2.82582020e+07]\n",
      " [-2.28170044e+08 -1.64052200e+06  7.47372000e+05 -2.82582020e+07\n",
      "   1.03781772e+08]]\n"
     ]
    }
   ],
   "source": [
    "def cofactor(matrix, row, col):\n",
    "    submatrix = np.delete(np.delete(matrix, row, axis=0), col, axis=1)\n",
    "    sign = (-1) ** (row + col)\n",
    "    return sign * np.linalg.det(submatrix)\n",
    "\n",
    "def adjugate(matrix):\n",
    "    rows, cols = matrix.shape\n",
    "    adjugate_matrix = np.zeros((rows, cols))\n",
    "\n",
    "    for i in range(rows):\n",
    "        for j in range(cols):\n",
    "            adjugate_matrix[i, j] = cofactor(matrix, i, j)\n",
    "\n",
    "    return adjugate_matrix.T  # Transpose to get the adjugate\n",
    "\n",
    "matrix = np.array([\n",
    "    [16, 84, 319, 58, 50],\n",
    "    [84, 458, 1610, 322, 268],\n",
    "    [319, 1610, 17353, 1040, 885],\n",
    "    [58, 322, 1040, 264, 197],\n",
    "    [50, 268, 885, 197, 180]\n",
    "])\n",
    "\n",
    "adjugate_matrix = adjugate(matrix)\n",
    "print(adjugate_matrix)"
   ]
  },
  {
   "cell_type": "code",
   "execution_count": null,
   "metadata": {},
   "outputs": [],
   "source": []
  }
 ],
 "metadata": {
  "kernelspec": {
   "display_name": "Python 3",
   "language": "python",
   "name": "python3"
  },
  "language_info": {
   "codemirror_mode": {
    "name": "ipython",
    "version": 3
   },
   "file_extension": ".py",
   "mimetype": "text/x-python",
   "name": "python",
   "nbconvert_exporter": "python",
   "pygments_lexer": "ipython3",
   "version": "3.8.5"
  }
 },
 "nbformat": 4,
 "nbformat_minor": 4
}
