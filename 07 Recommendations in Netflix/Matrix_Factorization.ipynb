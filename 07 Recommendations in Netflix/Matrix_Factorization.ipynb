{
  "nbformat": 4,
  "nbformat_minor": 0,
  "metadata": {
    "colab": {
      "provenance": []
    },
    "kernelspec": {
      "name": "python3",
      "display_name": "Python 3"
    },
    "language_info": {
      "name": "python"
    }
  },
  "cells": [
    {
      "cell_type": "code",
      "execution_count": 9,
      "metadata": {
        "colab": {
          "base_uri": "https://localhost:8080/"
        },
        "id": "XfNh6TV-rA7A",
        "outputId": "ba2e13f4-0481-46a2-bccd-5d4151ff2c29"
      },
      "outputs": [
        {
          "output_type": "stream",
          "name": "stdout",
          "text": [
            "Predicted rating for user 0 on item 2: 4.028480949859061\n"
          ]
        }
      ],
      "source": [
        "import numpy as np\n",
        "import pandas as pd\n",
        "from surprise import Dataset, Reader\n",
        "\n",
        "# Define the user-item matrix\n",
        "user_item_matrix = np.array([\n",
        "    [5, 0, 4, 0, 0],\n",
        "    [0, 3, 0, 0, 5],\n",
        "    [4, 0, 0, 4, 4],\n",
        "    [0, 0, 5, 0, 0]\n",
        "])\n",
        "\n",
        "# Define a reader specifying the rating scale\n",
        "reader = Reader(rating_scale=(1, 5))\n",
        "\n",
        "# Create a list of tuples (user_id, item_id, rating) from the matrix\n",
        "data = []\n",
        "for i in range(user_item_matrix.shape[0]):\n",
        "    for j in range(user_item_matrix.shape[1]):\n",
        "        if user_item_matrix[i, j] > 0:\n",
        "            data.append((str(i), str(j), user_item_matrix[i, j]))\n",
        "\n",
        "# Convert the data to a Pandas DataFrame\n",
        "df = pd.DataFrame(data, columns=['user_id', 'item_id', 'rating'])\n",
        "\n",
        "# Load the dataset from the DataFrame\n",
        "dataset = Dataset.load_from_df(df[['user_id', 'item_id', 'rating']], reader=reader)\n",
        "\n",
        "# Build the trainset\n",
        "trainset = dataset.build_full_trainset()\n",
        "\n",
        "# Define the matrix factorization model with SGD\n",
        "model = SVD(n_factors=2, n_epochs=1000, lr_all=0.01)\n",
        "\n",
        "# Train the model on the dataset\n",
        "model.fit(trainset)\n",
        "\n",
        "# Make predictions for a user and item\n",
        "user_id = '0'  # User ID (0-based index)\n",
        "item_id = '2'  # Item ID (0-based index)\n",
        "predicted_rating = model.predict(user_id, item_id).est\n",
        "print(f'Predicted rating for user {user_id} on item {item_id}: {predicted_rating}')\n"
      ]
    }
  ]
}